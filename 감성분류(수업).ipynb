{
  "nbformat": 4,
  "nbformat_minor": 0,
  "metadata": {
    "colab": {
      "provenance": [],
      "include_colab_link": true
    },
    "kernelspec": {
      "name": "python3",
      "display_name": "Python 3"
    },
    "language_info": {
      "name": "python"
    }
  },
  "cells": [
    {
      "cell_type": "markdown",
      "metadata": {
        "id": "view-in-github",
        "colab_type": "text"
      },
      "source": [
        "<a href=\"https://colab.research.google.com/github/jh941213/NLP/blob/main/%E1%84%80%E1%85%A1%E1%86%B7%E1%84%89%E1%85%A5%E1%86%BC%E1%84%87%E1%85%AE%E1%86%AB%E1%84%85%E1%85%B2(%E1%84%89%E1%85%AE%E1%84%8B%E1%85%A5%E1%86%B8).ipynb\" target=\"_parent\"><img src=\"https://colab.research.google.com/assets/colab-badge.svg\" alt=\"Open In Colab\"/></a>"
      ]
    },
    {
      "cell_type": "code",
      "execution_count": null,
      "metadata": {
        "id": "XBVKZywDIoT0"
      },
      "outputs": [],
      "source": [
        "import pandas as pd\n",
        "import numpy as np\n",
        "import matplotlib.pyplot as plt\n",
        "import seaborn as sns\n",
        "import warnings\n",
        "import os\n",
        "import tensorflow as tf "
      ]
    },
    {
      "cell_type": "code",
      "source": [
        "train_sen = [    \n",
        "    \"재미있다!!!!\", \n",
        "    \"추천! 꼭 다시 보고 싶은 영화\",\n",
        "    \"별로다ㅜㅜakdfj1259\", \n",
        "    \"노잼\"]"
      ],
      "metadata": {
        "id": "9m1H5qxZIufJ"
      },
      "execution_count": null,
      "outputs": []
    },
    {
      "cell_type": "code",
      "source": [
        "train_y = np.array([1, 1, 0, 0])"
      ],
      "metadata": {
        "id": "GXQxFhNKI3Ef"
      },
      "execution_count": null,
      "outputs": []
    },
    {
      "cell_type": "code",
      "source": [
        "# cleaning\n",
        "import re \n",
        "\n",
        "temp = []\n",
        "for sen in train_sen :  \n",
        "    sen = re.sub(\"[^가-힣ㄱ-ㅎㅏ-ㅣ\\s]\", \"\", sen)\n",
        "    temp.append(sen)\n",
        "\n",
        "temp"
      ],
      "metadata": {
        "colab": {
          "base_uri": "https://localhost:8080/"
        },
        "id": "OvK5tX3oI8NF",
        "outputId": "1c6c1a23-3694-40aa-97fb-3cbad35764d8"
      },
      "execution_count": null,
      "outputs": [
        {
          "output_type": "execute_result",
          "data": {
            "text/plain": [
              "['재미있다', '추천 꼭 다시 보고 싶은 영화', '별로다ㅜㅜ', '노잼']"
            ]
          },
          "metadata": {},
          "execution_count": 7
        }
      ]
    },
    {
      "cell_type": "code",
      "source": [
        "!pip install konlpy"
      ],
      "metadata": {
        "id": "zKEGLHFUJgNz"
      },
      "execution_count": null,
      "outputs": []
    },
    {
      "cell_type": "code",
      "source": [
        "# 토큰화 \n",
        "from konlpy.tag import Okt \n",
        "okt = Okt()\n",
        "\n",
        "clean_x = []\n",
        "for sen in temp : \n",
        "    clean_x.append(okt.morphs(sen, stem = True))\n",
        "\n",
        "clean_x"
      ],
      "metadata": {
        "colab": {
          "base_uri": "https://localhost:8080/"
        },
        "id": "9mqN5sBGJYOU",
        "outputId": "228fe073-5e9e-4d9b-ff87-1df3fcb48fed"
      },
      "execution_count": null,
      "outputs": [
        {
          "output_type": "execute_result",
          "data": {
            "text/plain": [
              "[['재미있다'], ['추천', '꼭', '다시', '보고', '싶다', '영화'], ['별로', '다', 'ㅜㅜ'], ['노잼']]"
            ]
          },
          "metadata": {},
          "execution_count": 10
        }
      ]
    },
    {
      "cell_type": "code",
      "source": [
        "# 토큰 -> 숫자 \n",
        "from tensorflow.keras.preprocessing.text import Tokenizer \n",
        "\n",
        "tokenizer = Tokenizer()\n",
        "tokenizer.fit_on_texts(clean_x)"
      ],
      "metadata": {
        "id": "4lAFRDb2J0QJ"
      },
      "execution_count": null,
      "outputs": []
    },
    {
      "cell_type": "code",
      "source": [
        "tokenizer.word_index"
      ],
      "metadata": {
        "id": "pg7GrMmvN-s8"
      },
      "execution_count": null,
      "outputs": []
    },
    {
      "cell_type": "code",
      "source": [
        "word_encoding = tokenizer.texts_to_sequences(clean_x)\n",
        "word_encoding"
      ],
      "metadata": {
        "colab": {
          "base_uri": "https://localhost:8080/"
        },
        "id": "HrIn2rG5OAiU",
        "outputId": "cca23a3b-e133-4929-ab67-d805116d411e"
      },
      "execution_count": null,
      "outputs": [
        {
          "output_type": "execute_result",
          "data": {
            "text/plain": [
              "[[1], [2, 3, 4, 5, 6, 7], [8, 9, 10], [11]]"
            ]
          },
          "metadata": {},
          "execution_count": 13
        }
      ]
    },
    {
      "cell_type": "code",
      "source": [
        "# 문장 길이 맞춰주기 -> padding \n",
        "from tensorflow.keras.preprocessing.sequence import pad_sequences \n",
        "\n",
        "MAX_LENGTH = 10 \n",
        "\n",
        "padded = pad_sequences(word_encoding, maxlen = MAX_LENGTH, padding = 'post')\n",
        "padded"
      ],
      "metadata": {
        "colab": {
          "base_uri": "https://localhost:8080/"
        },
        "id": "fWdx4-ZKOJNx",
        "outputId": "183fcf9b-82d2-429d-9abe-055482a1662c"
      },
      "execution_count": null,
      "outputs": [
        {
          "output_type": "execute_result",
          "data": {
            "text/plain": [
              "array([[ 1,  0,  0,  0,  0,  0,  0,  0,  0,  0],\n",
              "       [ 2,  3,  4,  5,  6,  7,  0,  0,  0,  0],\n",
              "       [ 8,  9, 10,  0,  0,  0,  0,  0,  0,  0],\n",
              "       [11,  0,  0,  0,  0,  0,  0,  0,  0,  0]], dtype=int32)"
            ]
          },
          "metadata": {},
          "execution_count": 17
        }
      ]
    },
    {
      "cell_type": "markdown",
      "source": [
        "TEST DATA"
      ],
      "metadata": {
        "id": "E0CAUnRBOqIG"
      }
    },
    {
      "cell_type": "code",
      "source": [
        "test_sen = [    \n",
        "    \"별로\", \"재미있는 영화\", \"추천 꿀잼\"]\n",
        "\n",
        "test_y = [0, 1, 1]"
      ],
      "metadata": {
        "id": "kvI8KAgJOd9J"
      },
      "execution_count": null,
      "outputs": []
    },
    {
      "cell_type": "code",
      "source": [
        "clean_test = []\n",
        "for sen in test_sen :  \n",
        "    sen = re.sub(\"[^가-힣ㄱ-ㅎㅏ-ㅣ\\s]\", \"\", sen)\n",
        "    clean_test.append(okt.morphs(sen, stem = True))\n",
        "\n",
        "clean_test"
      ],
      "metadata": {
        "colab": {
          "base_uri": "https://localhost:8080/"
        },
        "id": "Wxqqd5o4PARJ",
        "outputId": "6e826027-3c02-4d1f-bbb7-bb5c0c0758f7"
      },
      "execution_count": null,
      "outputs": [
        {
          "output_type": "execute_result",
          "data": {
            "text/plain": [
              "[['별로'], ['재미있다', '영화'], ['추천', '꿀잼']]"
            ]
          },
          "metadata": {},
          "execution_count": 28
        }
      ]
    },
    {
      "cell_type": "code",
      "source": [
        "word_encoding_test = tokenizer.texts_to_sequences(clean_test)\n",
        "word_encoding_test"
      ],
      "metadata": {
        "colab": {
          "base_uri": "https://localhost:8080/"
        },
        "id": "23smvRBUPNrm",
        "outputId": "1414f21c-8c5f-421b-b786-eea21ea87191"
      },
      "execution_count": null,
      "outputs": [
        {
          "output_type": "execute_result",
          "data": {
            "text/plain": [
              "[[8], [1, 7], [2]]"
            ]
          },
          "metadata": {},
          "execution_count": 29
        }
      ]
    },
    {
      "cell_type": "code",
      "source": [
        "MAX_LENGTH = 10 \n",
        "\n",
        "padded_test = pad_sequences(word_encoding_test, maxlen = MAX_LENGTH, padding = 'post')\n",
        "padded_test"
      ],
      "metadata": {
        "colab": {
          "base_uri": "https://localhost:8080/"
        },
        "id": "jMmJ-cKKPXdN",
        "outputId": "87814972-64d7-4b38-f3b4-4fb29e8d125e"
      },
      "execution_count": null,
      "outputs": [
        {
          "output_type": "execute_result",
          "data": {
            "text/plain": [
              "array([[8, 0, 0, 0, 0, 0, 0, 0, 0, 0],\n",
              "       [1, 7, 0, 0, 0, 0, 0, 0, 0, 0],\n",
              "       [2, 0, 0, 0, 0, 0, 0, 0, 0, 0]], dtype=int32)"
            ]
          },
          "metadata": {},
          "execution_count": 30
        }
      ]
    },
    {
      "cell_type": "markdown",
      "source": [
        "### 모델링"
      ],
      "metadata": {
        "id": "DXeyRoz_Pq6M"
      }
    },
    {
      "cell_type": "code",
      "source": [
        "vocab_size = len(tokenizer.word_index) + 1 # 패딩까지 추가\n",
        "vocab_size"
      ],
      "metadata": {
        "colab": {
          "base_uri": "https://localhost:8080/"
        },
        "id": "Ir7y0haYP9dh",
        "outputId": "de4cdda6-38b8-449c-b014-954c026378c7"
      },
      "execution_count": null,
      "outputs": [
        {
          "output_type": "execute_result",
          "data": {
            "text/plain": [
              "12"
            ]
          },
          "metadata": {},
          "execution_count": 36
        }
      ]
    },
    {
      "cell_type": "code",
      "source": [
        "from tensorflow.keras.models import Sequential\n",
        "from tensorflow.keras.layers import Dense, LSTM, Embedding \n",
        "\n",
        "model = Sequential()\n",
        "model.add(Embedding(vocab_size, 3))\n",
        "model.add(LSTM(3))\n",
        "model.add(Dense(1))\n",
        "# model.add(Dense(1, activation = 'sigmoid'))\n",
        "\n",
        "print(model.summary())"
      ],
      "metadata": {
        "colab": {
          "base_uri": "https://localhost:8080/"
        },
        "id": "WPS0XRKHPnZ-",
        "outputId": "25e58e2d-6561-4289-8dd4-36cef1dc417f"
      },
      "execution_count": null,
      "outputs": [
        {
          "output_type": "stream",
          "name": "stdout",
          "text": [
            "Model: \"sequential_3\"\n",
            "_________________________________________________________________\n",
            " Layer (type)                Output Shape              Param #   \n",
            "=================================================================\n",
            " embedding_5 (Embedding)     (None, None, 3)           36        \n",
            "                                                                 \n",
            " lstm_4 (LSTM)               (None, 3)                 84        \n",
            "                                                                 \n",
            " dense_3 (Dense)             (None, 1)                 4         \n",
            "                                                                 \n",
            "=================================================================\n",
            "Total params: 124\n",
            "Trainable params: 124\n",
            "Non-trainable params: 0\n",
            "_________________________________________________________________\n",
            "None\n"
          ]
        }
      ]
    },
    {
      "cell_type": "code",
      "source": [
        "from tensorflow.keras.utils import plot_model \n",
        "\n",
        "plot_model(model, show_shapes = True)"
      ],
      "metadata": {
        "colab": {
          "base_uri": "https://localhost:8080/",
          "height": 422
        },
        "id": "8TfT7Ro3Qa4t",
        "outputId": "dec30ac0-8aa0-43b2-fb47-a30d823df300"
      },
      "execution_count": null,
      "outputs": [
        {
          "output_type": "execute_result",
          "data": {
            "image/png": "[encoded data removed]",
            "text/plain": [
              "<IPython.core.display.Image object>"
            ]
          },
          "metadata": {},
          "execution_count": 56
        }
      ]
    },
    {
      "cell_type": "code",
      "source": [
        "model.compile(\n",
        "    optimizer = 'adam', \n",
        "    loss = tf.keras.losses.BinaryCrossentropy(from_logits = True ),\n",
        "    # loss = tf.keras.losses.BinaryCrossentropy(from_logits = False ),\n",
        "    metrics = ['acc']\n",
        ")"
      ],
      "metadata": {
        "id": "tjAqPabEQ8wE"
      },
      "execution_count": null,
      "outputs": []
    },
    {
      "cell_type": "code",
      "source": [
        "padded, train_y"
      ],
      "metadata": {
        "id": "HVzJxv3HRY2x"
      },
      "execution_count": null,
      "outputs": []
    },
    {
      "cell_type": "code",
      "source": [
        "model.fit(padded, train_y, epochs = 300)"
      ],
      "metadata": {
        "id": "4V7bjFe9Q-Dq"
      },
      "execution_count": null,
      "outputs": []
    },
    {
      "cell_type": "code",
      "source": [
        "model.evaluate(padded_test, np.array(test_y))"
      ],
      "metadata": {
        "colab": {
          "base_uri": "https://localhost:8080/"
        },
        "id": "q4uIM72HRnxi",
        "outputId": "116c9710-eb17-4ad4-fab4-27f96f1f2084"
      },
      "execution_count": null,
      "outputs": [
        {
          "output_type": "stream",
          "name": "stdout",
          "text": [
            "1/1 [==============================] - 1s 570ms/step - loss: 0.1492 - acc: 1.0000\n"
          ]
        },
        {
          "output_type": "execute_result",
          "data": {
            "text/plain": [
              "[0.14924149215221405, 1.0]"
            ]
          },
          "metadata": {},
          "execution_count": 60
        }
      ]
    },
    {
      "cell_type": "code",
      "source": [
        "# model.predict(padded_test)"
      ],
      "metadata": {
        "id": "d5wzBpzxS2Nx"
      },
      "execution_count": null,
      "outputs": []
    },
    {
      "cell_type": "code",
      "source": [
        "import tensorflow as tf \n",
        "tf.keras.activations.sigmoid(model.predict(padded_test))"
      ],
      "metadata": {
        "colab": {
          "base_uri": "https://localhost:8080/"
        },
        "id": "nWKcPwYoRuCc",
        "outputId": "83e74520-bdef-4f87-f1a7-e0c9ae67a3a9"
      },
      "execution_count": null,
      "outputs": [
        {
          "output_type": "stream",
          "name": "stdout",
          "text": [
            "1/1 [==============================] - 0s 19ms/step\n"
          ]
        },
        {
          "output_type": "execute_result",
          "data": {
            "text/plain": [
              "<tf.Tensor: shape=(3, 1), dtype=float32, numpy=\n",
              "array([[0.15367629],\n",
              "       [0.87859005],\n",
              "       [0.85947436]], dtype=float32)>"
            ]
          },
          "metadata": {},
          "execution_count": 62
        }
      ]
    },
    {
      "cell_type": "code",
      "source": [],
      "metadata": {
        "id": "SFQEDpETSDb4"
      },
      "execution_count": null,
      "outputs": []
    }
  ]
}